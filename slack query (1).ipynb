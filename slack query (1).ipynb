{
 "cells": [
  {
   "cell_type": "markdown",
   "id": "f20fe1a2",
   "metadata": {},
   "source": [
    "# Preparing the data for analysis¶\n"
   ]
  },
  {
   "cell_type": "code",
   "execution_count": 1,
   "id": "06621628",
   "metadata": {},
   "outputs": [
    {
     "ename": "ModuleNotFoundError",
     "evalue": "No module named 'pandas'",
     "output_type": "error",
     "traceback": [
      "\u001b[1;31m---------------------------------------------------------------------------\u001b[0m",
      "\u001b[1;31mModuleNotFoundError\u001b[0m                       Traceback (most recent call last)",
      "Cell \u001b[1;32mIn[1], line 1\u001b[0m\n\u001b[1;32m----> 1\u001b[0m \u001b[38;5;28;01mimport\u001b[39;00m \u001b[38;5;21;01mpandas\u001b[39;00m \u001b[38;5;28;01mas\u001b[39;00m \u001b[38;5;21;01mpd\u001b[39;00m \n\u001b[0;32m      2\u001b[0m \u001b[38;5;28;01mimport\u001b[39;00m \u001b[38;5;21;01mnumpy\u001b[39;00m \u001b[38;5;28;01mas\u001b[39;00m \u001b[38;5;21;01mnp\u001b[39;00m\n\u001b[0;32m      3\u001b[0m \u001b[38;5;28;01mimport\u001b[39;00m \u001b[38;5;21;01mmatplotlib\u001b[39;00m\u001b[38;5;21;01m.\u001b[39;00m\u001b[38;5;21;01mpyplot\u001b[39;00m \u001b[38;5;28;01mas\u001b[39;00m \u001b[38;5;21;01mplt\u001b[39;00m\n",
      "\u001b[1;31mModuleNotFoundError\u001b[0m: No module named 'pandas'"
     ]
    }
   ],
   "source": [
    "import pandas as pd \n",
    "import numpy as np\n",
    "import matplotlib.pyplot as plt\n",
    "import seaborn as sns\n",
    "import seaborn as ss"
   ]
  },
  {
   "cell_type": "code",
   "execution_count": 2,
   "id": "845db031",
   "metadata": {},
   "outputs": [],
   "source": [
    "df=pd.read_csv(\"G:\\datasets\\decode11.3\\dataset.csv\")"
   ]
  },
  {
   "cell_type": "code",
   "execution_count": 6,
   "id": "b1c3315b",
   "metadata": {},
   "outputs": [],
   "source": [
    "df[\"Created Time (Ticket)\"]=pd.to_datetime(df[\"Created Time (Ticket)\"])\n",
    "df[\"Ticket Closed Time\"]=pd.to_datetime(df[\"Ticket Closed Time\"],errors=\"coerce\")\n",
    "df[\"First Response Time\"]=pd.to_datetime(df[\"First Response Time\"])"
   ]
  },
  {
   "cell_type": "code",
   "execution_count": 7,
   "id": "b6620f25",
   "metadata": {
    "scrolled": true
   },
   "outputs": [
    {
     "data": {
      "text/plain": [
       "Ticket Id                       float64\n",
       "Student or WP                    object\n",
       "Program Name                     object\n",
       "Status (Ticket)                  object\n",
       "Created Time (Ticket)    datetime64[ns]\n",
       "Ticket Closed Time       datetime64[ns]\n",
       "First Response Time      datetime64[ns]\n",
       "Project Phase                    object\n",
       "dtype: object"
      ]
     },
     "execution_count": 7,
     "metadata": {},
     "output_type": "execute_result"
    }
   ],
   "source": [
    "df.dtypes"
   ]
  },
  {
   "cell_type": "markdown",
   "id": "12957942",
   "metadata": {},
   "source": [
    "#### all the relevant column is converted to datetime"
   ]
  },
  {
   "cell_type": "markdown",
   "id": "c8a43bb4",
   "metadata": {},
   "source": [
    "# 2. Fill Missing Values with Appropriate Method."
   ]
  },
  {
   "cell_type": "code",
   "execution_count": 8,
   "id": "7f141d6e",
   "metadata": {},
   "outputs": [
    {
     "data": {
      "text/plain": [
       "First Response Time      115\n",
       "Ticket Closed Time        13\n",
       "Ticket Id                  5\n",
       "Student or WP              5\n",
       "Program Name               5\n",
       "Status (Ticket)            5\n",
       "Created Time (Ticket)      5\n",
       "Project Phase              5\n",
       "dtype: int64"
      ]
     },
     "execution_count": 8,
     "metadata": {},
     "output_type": "execute_result"
    }
   ],
   "source": [
    "df.isnull().sum().sort_values(ascending=False)"
   ]
  },
  {
   "cell_type": "code",
   "execution_count": 48,
   "id": "3856c6dd",
   "metadata": {
    "scrolled": true
   },
   "outputs": [
    {
     "data": {
      "text/html": [
       "<div>\n",
       "<style scoped>\n",
       "    .dataframe tbody tr th:only-of-type {\n",
       "        vertical-align: middle;\n",
       "    }\n",
       "\n",
       "    .dataframe tbody tr th {\n",
       "        vertical-align: top;\n",
       "    }\n",
       "\n",
       "    .dataframe thead th {\n",
       "        text-align: right;\n",
       "    }\n",
       "</style>\n",
       "<table border=\"1\" class=\"dataframe\">\n",
       "  <thead>\n",
       "    <tr style=\"text-align: right;\">\n",
       "      <th></th>\n",
       "      <th>Ticket Id</th>\n",
       "      <th>Student or WP</th>\n",
       "      <th>Program Name</th>\n",
       "      <th>Status (Ticket)</th>\n",
       "      <th>Created Time (Ticket)</th>\n",
       "      <th>Ticket Closed Time</th>\n",
       "      <th>First Response Time</th>\n",
       "      <th>Project Phase</th>\n",
       "      <th>duration</th>\n",
       "      <th>time</th>\n",
       "      <th>ticket_close</th>\n",
       "      <th>easy_solve</th>\n",
       "    </tr>\n",
       "  </thead>\n",
       "  <tbody>\n",
       "    <tr>\n",
       "      <th>6</th>\n",
       "      <td>6404.0</td>\n",
       "      <td>Student</td>\n",
       "      <td>Fullstack Program</td>\n",
       "      <td>Deleted</td>\n",
       "      <td>2021-05-14 01:12:00</td>\n",
       "      <td>2021-05-14 01:13:00</td>\n",
       "      <td>2021-05-18 19:24:00</td>\n",
       "      <td>fullstack-phase-2</td>\n",
       "      <td>4 days 18:12:00</td>\n",
       "      <td>0 days 00:01:00</td>\n",
       "      <td>14-05-2021</td>\n",
       "      <td>0 days 00:01:00</td>\n",
       "    </tr>\n",
       "    <tr>\n",
       "      <th>17</th>\n",
       "      <td>6410.0</td>\n",
       "      <td>Student</td>\n",
       "      <td>Fullstack Program</td>\n",
       "      <td>Deleted</td>\n",
       "      <td>2021-05-14 01:46:00</td>\n",
       "      <td>2021-05-14 02:05:00</td>\n",
       "      <td>2021-05-18 19:24:00</td>\n",
       "      <td>fullstack-phase-3</td>\n",
       "      <td>4 days 17:38:00</td>\n",
       "      <td>0 days 00:19:00</td>\n",
       "      <td>14-05-2021</td>\n",
       "      <td>0 days 00:19:00</td>\n",
       "    </tr>\n",
       "  </tbody>\n",
       "</table>\n",
       "</div>"
      ],
      "text/plain": [
       "    Ticket Id Student or WP       Program Name Status (Ticket)  \\\n",
       "6      6404.0       Student  Fullstack Program         Deleted   \n",
       "17     6410.0       Student  Fullstack Program         Deleted   \n",
       "\n",
       "   Created Time (Ticket)  Ticket Closed Time First Response Time  \\\n",
       "6    2021-05-14 01:12:00 2021-05-14 01:13:00 2021-05-18 19:24:00   \n",
       "17   2021-05-14 01:46:00 2021-05-14 02:05:00 2021-05-18 19:24:00   \n",
       "\n",
       "        Project Phase        duration            time ticket_close  \\\n",
       "6   fullstack-phase-2 4 days 18:12:00 0 days 00:01:00   14-05-2021   \n",
       "17  fullstack-phase-3 4 days 17:38:00 0 days 00:19:00   14-05-2021   \n",
       "\n",
       "        easy_solve  \n",
       "6  0 days 00:01:00  \n",
       "17 0 days 00:19:00  "
      ]
     },
     "execution_count": 48,
     "metadata": {},
     "output_type": "execute_result"
    }
   ],
   "source": [
    "df.head(2)"
   ]
  },
  {
   "cell_type": "markdown",
   "id": "81fb35ae",
   "metadata": {},
   "source": [
    "#### we are about to drop Ticket Id column because without value in ticket id column no further analysis is possible ."
   ]
  },
  {
   "cell_type": "code",
   "execution_count": 10,
   "id": "98aed3d2",
   "metadata": {},
   "outputs": [],
   "source": [
    "df.dropna(axis=\"rows\",how=\"any\",subset=[\"Ticket Id\"],inplace=True)"
   ]
  },
  {
   "cell_type": "code",
   "execution_count": 11,
   "id": "7365be5e",
   "metadata": {
    "scrolled": true
   },
   "outputs": [
    {
     "data": {
      "text/plain": [
       "First Response Time      110\n",
       "Ticket Closed Time         8\n",
       "Ticket Id                  0\n",
       "Student or WP              0\n",
       "Program Name               0\n",
       "Status (Ticket)            0\n",
       "Created Time (Ticket)      0\n",
       "Project Phase              0\n",
       "dtype: int64"
      ]
     },
     "execution_count": 11,
     "metadata": {},
     "output_type": "execute_result"
    }
   ],
   "source": [
    "df.isnull().sum().sort_values(ascending=False)"
   ]
  },
  {
   "cell_type": "markdown",
   "id": "28dc3197",
   "metadata": {},
   "source": [
    "### \n",
    "### After dealing with Ticket id column null values , now we have only  two column which have null values  "
   ]
  },
  {
   "cell_type": "markdown",
   "id": "faa9e566",
   "metadata": {},
   "source": [
    "#### Because,in remaining record we dont have any null value in ticket id column so it is not good idea that we drop other values thats why it is good to replace with mode."
   ]
  },
  {
   "cell_type": "code",
   "execution_count": 12,
   "id": "d04943ab",
   "metadata": {},
   "outputs": [],
   "source": [
    "df[\"First Response Time\"].fillna(df[\"First Response Time\"].mode()[0],inplace=True)"
   ]
  },
  {
   "cell_type": "code",
   "execution_count": 13,
   "id": "1d74212b",
   "metadata": {},
   "outputs": [],
   "source": [
    "df[\"Ticket Closed Time\"].fillna(df[\"Ticket Closed Time\"].mode()[0],inplace=True)"
   ]
  },
  {
   "cell_type": "code",
   "execution_count": 15,
   "id": "821a0b70",
   "metadata": {
    "scrolled": false
   },
   "outputs": [
    {
     "data": {
      "text/plain": [
       "Ticket Id                0\n",
       "Student or WP            0\n",
       "Program Name             0\n",
       "Status (Ticket)          0\n",
       "Created Time (Ticket)    0\n",
       "Ticket Closed Time       0\n",
       "First Response Time      0\n",
       "Project Phase            0\n",
       "dtype: int64"
      ]
     },
     "execution_count": 15,
     "metadata": {},
     "output_type": "execute_result"
    }
   ],
   "source": [
    "df.isnull().sum().sort_values(ascending=False)"
   ]
  },
  {
   "cell_type": "markdown",
   "id": "b5fe9f21",
   "metadata": {},
   "source": [
    "### To deal with Ticket Closed Time and First Response Time column null value I replaced with mode of respective data"
   ]
  },
  {
   "cell_type": "markdown",
   "id": "f323586d",
   "metadata": {},
   "source": [
    "# 3 Check how many Students and Work Professionals are raising queries, who’s queries are more."
   ]
  },
  {
   "cell_type": "code",
   "execution_count": 16,
   "id": "baa2e7b5",
   "metadata": {
    "scrolled": true
   },
   "outputs": [
    {
     "data": {
      "text/plain": [
       "Working Professionals    328\n",
       "Student                  148\n",
       "Name: Student or WP, dtype: int64"
      ]
     },
     "execution_count": 16,
     "metadata": {},
     "output_type": "execute_result"
    }
   ],
   "source": [
    "\n",
    "\n",
    "df[\"Student or WP\"].value_counts()\n"
   ]
  },
  {
   "cell_type": "code",
   "execution_count": 17,
   "id": "b7e62332",
   "metadata": {
    "scrolled": false
   },
   "outputs": [
    {
     "data": {
      "image/png": "[encoded data removed]",
      "text/plain": [
       "<Figure size 720x360 with 1 Axes>"
      ]
     },
     "metadata": {
      "needs_background": "light"
     },
     "output_type": "display_data"
    }
   ],
   "source": [
    "plt.figure(figsize=(10,5))\n",
    "sns.countplot(x=\"Student or WP\",hue=\"Student or WP\",data=df)\n",
    "plt.show()"
   ]
  },
  {
   "cell_type": "markdown",
   "id": "11365e36",
   "metadata": {},
   "source": [
    "### 148 students are raising queries and 328 working professionals are raising query"
   ]
  },
  {
   "cell_type": "markdown",
   "id": "7d7f137e",
   "metadata": {},
   "source": [
    "# 4.What is the Average time taken to respond to a query?"
   ]
  },
  {
   "cell_type": "code",
   "execution_count": 18,
   "id": "6550a2cf",
   "metadata": {},
   "outputs": [],
   "source": [
    "from datetime import datetime\n"
   ]
  },
  {
   "cell_type": "code",
   "execution_count": 20,
   "id": "fd794e6d",
   "metadata": {
    "scrolled": false
   },
   "outputs": [],
   "source": [
    "time=df[\"First Response Time\"]-df[\"Created Time (Ticket)\"]"
   ]
  },
  {
   "cell_type": "code",
   "execution_count": 21,
   "id": "205f3e29",
   "metadata": {},
   "outputs": [
    {
     "data": {
      "text/plain": [
       "0       0 days 07:42:00\n",
       "1       4 days 09:12:00\n",
       "2       0 days 06:28:00\n",
       "3       0 days 13:37:00\n",
       "4       0 days 00:04:00\n",
       "             ...       \n",
       "471     0 days 00:03:00\n",
       "472     0 days 00:59:00\n",
       "473   -3 days +20:14:00\n",
       "474   -3 days +19:45:00\n",
       "475     0 days 00:49:00\n",
       "Length: 476, dtype: timedelta64[ns]"
      ]
     },
     "execution_count": 21,
     "metadata": {},
     "output_type": "execute_result"
    }
   ],
   "source": [
    "time"
   ]
  },
  {
   "cell_type": "code",
   "execution_count": 22,
   "id": "ca4b4b15",
   "metadata": {},
   "outputs": [],
   "source": [
    "Average_time=time.sort_values().sum()/476\n"
   ]
  },
  {
   "cell_type": "markdown",
   "id": "1debe2c2",
   "metadata": {},
   "source": [
    "#### The average time to respond a query is 10:17:40.966386554"
   ]
  },
  {
   "cell_type": "markdown",
   "id": "1035db17",
   "metadata": {},
   "source": [
    "# 5.List down top 10 queries that took longest time to resolve."
   ]
  },
  {
   "cell_type": "code",
   "execution_count": 23,
   "id": "23807c00",
   "metadata": {},
   "outputs": [],
   "source": [
    "df[\"duration\"]=df[\"First Response Time\"]-df[\"Created Time (Ticket)\"]"
   ]
  },
  {
   "cell_type": "code",
   "execution_count": 24,
   "id": "dd655e5c",
   "metadata": {},
   "outputs": [],
   "source": [
    "df.sort_values(\"duration\",ascending=False,inplace=True)"
   ]
  },
  {
   "cell_type": "code",
   "execution_count": 25,
   "id": "13e50c6c",
   "metadata": {
    "scrolled": false
   },
   "outputs": [
    {
     "data": {
      "text/html": [
       "<div>\n",
       "<style scoped>\n",
       "    .dataframe tbody tr th:only-of-type {\n",
       "        vertical-align: middle;\n",
       "    }\n",
       "\n",
       "    .dataframe tbody tr th {\n",
       "        vertical-align: top;\n",
       "    }\n",
       "\n",
       "    .dataframe thead th {\n",
       "        text-align: right;\n",
       "    }\n",
       "</style>\n",
       "<table border=\"1\" class=\"dataframe\">\n",
       "  <thead>\n",
       "    <tr style=\"text-align: right;\">\n",
       "      <th></th>\n",
       "      <th>Ticket Id</th>\n",
       "      <th>Student or WP</th>\n",
       "      <th>Program Name</th>\n",
       "      <th>Status (Ticket)</th>\n",
       "      <th>Created Time (Ticket)</th>\n",
       "      <th>Ticket Closed Time</th>\n",
       "      <th>First Response Time</th>\n",
       "      <th>Project Phase</th>\n",
       "      <th>duration</th>\n",
       "    </tr>\n",
       "  </thead>\n",
       "  <tbody>\n",
       "    <tr>\n",
       "      <th>6</th>\n",
       "      <td>6404.0</td>\n",
       "      <td>Student</td>\n",
       "      <td>Fullstack Program</td>\n",
       "      <td>Deleted</td>\n",
       "      <td>2021-05-14 01:12:00</td>\n",
       "      <td>2021-05-14 01:13:00</td>\n",
       "      <td>2021-05-18 19:24:00</td>\n",
       "      <td>fullstack-phase-2</td>\n",
       "      <td>4 days 18:12:00</td>\n",
       "    </tr>\n",
       "    <tr>\n",
       "      <th>17</th>\n",
       "      <td>6410.0</td>\n",
       "      <td>Student</td>\n",
       "      <td>Fullstack Program</td>\n",
       "      <td>Deleted</td>\n",
       "      <td>2021-05-14 01:46:00</td>\n",
       "      <td>2021-05-14 02:05:00</td>\n",
       "      <td>2021-05-18 19:24:00</td>\n",
       "      <td>fullstack-phase-3</td>\n",
       "      <td>4 days 17:38:00</td>\n",
       "    </tr>\n",
       "    <tr>\n",
       "      <th>1</th>\n",
       "      <td>6415.0</td>\n",
       "      <td>Working Professionals</td>\n",
       "      <td>Backend Program</td>\n",
       "      <td>Duplicate</td>\n",
       "      <td>2021-05-14 10:12:00</td>\n",
       "      <td>2021-05-14 11:23:00</td>\n",
       "      <td>2021-05-18 19:24:00</td>\n",
       "      <td>trial phase</td>\n",
       "      <td>4 days 09:12:00</td>\n",
       "    </tr>\n",
       "    <tr>\n",
       "      <th>29</th>\n",
       "      <td>6433.0</td>\n",
       "      <td>Working Professionals</td>\n",
       "      <td>Fullstack Program</td>\n",
       "      <td>Duplicate</td>\n",
       "      <td>2021-05-14 13:11:00</td>\n",
       "      <td>2021-05-14 20:46:00</td>\n",
       "      <td>2021-05-18 19:24:00</td>\n",
       "      <td>fullstack-phase-2</td>\n",
       "      <td>4 days 06:13:00</td>\n",
       "    </tr>\n",
       "    <tr>\n",
       "      <th>30</th>\n",
       "      <td>6434.0</td>\n",
       "      <td>Working Professionals</td>\n",
       "      <td>Fullstack Program</td>\n",
       "      <td>Duplicate</td>\n",
       "      <td>2021-05-14 13:12:00</td>\n",
       "      <td>2021-05-14 20:47:00</td>\n",
       "      <td>2021-05-18 19:24:00</td>\n",
       "      <td>fullstack-phase-2</td>\n",
       "      <td>4 days 06:12:00</td>\n",
       "    </tr>\n",
       "    <tr>\n",
       "      <th>32</th>\n",
       "      <td>6455.0</td>\n",
       "      <td>Working Professionals</td>\n",
       "      <td>Backend Program</td>\n",
       "      <td>Deleted</td>\n",
       "      <td>2021-05-14 15:16:00</td>\n",
       "      <td>2021-05-14 15:17:00</td>\n",
       "      <td>2021-05-18 19:24:00</td>\n",
       "      <td>system-issues</td>\n",
       "      <td>4 days 04:08:00</td>\n",
       "    </tr>\n",
       "    <tr>\n",
       "      <th>20</th>\n",
       "      <td>6468.0</td>\n",
       "      <td>Working Professionals</td>\n",
       "      <td>Backend Program</td>\n",
       "      <td>Duplicate</td>\n",
       "      <td>2021-05-14 16:43:00</td>\n",
       "      <td>2021-05-17 11:44:00</td>\n",
       "      <td>2021-05-18 19:24:00</td>\n",
       "      <td>system-issues</td>\n",
       "      <td>4 days 02:41:00</td>\n",
       "    </tr>\n",
       "    <tr>\n",
       "      <th>35</th>\n",
       "      <td>6469.0</td>\n",
       "      <td>Working Professionals</td>\n",
       "      <td>Backend Program</td>\n",
       "      <td>Deleted</td>\n",
       "      <td>2021-05-14 16:44:00</td>\n",
       "      <td>2021-05-14 17:14:00</td>\n",
       "      <td>2021-05-18 19:24:00</td>\n",
       "      <td>system-issues</td>\n",
       "      <td>4 days 02:40:00</td>\n",
       "    </tr>\n",
       "    <tr>\n",
       "      <th>37</th>\n",
       "      <td>6470.0</td>\n",
       "      <td>Working Professionals</td>\n",
       "      <td>Backend Program</td>\n",
       "      <td>Duplicate</td>\n",
       "      <td>2021-05-14 16:45:00</td>\n",
       "      <td>2021-05-17 11:43:00</td>\n",
       "      <td>2021-05-18 19:24:00</td>\n",
       "      <td>system-issues</td>\n",
       "      <td>4 days 02:39:00</td>\n",
       "    </tr>\n",
       "    <tr>\n",
       "      <th>43</th>\n",
       "      <td>6485.0</td>\n",
       "      <td>Working Professionals</td>\n",
       "      <td>Backend Program</td>\n",
       "      <td>Deleted</td>\n",
       "      <td>2021-05-14 19:34:00</td>\n",
       "      <td>2021-05-14 20:03:00</td>\n",
       "      <td>2021-05-18 19:24:00</td>\n",
       "      <td>backend-phase-3</td>\n",
       "      <td>3 days 23:50:00</td>\n",
       "    </tr>\n",
       "  </tbody>\n",
       "</table>\n",
       "</div>"
      ],
      "text/plain": [
       "    Ticket Id          Student or WP       Program Name Status (Ticket)  \\\n",
       "6      6404.0                Student  Fullstack Program         Deleted   \n",
       "17     6410.0                Student  Fullstack Program         Deleted   \n",
       "1      6415.0  Working Professionals    Backend Program       Duplicate   \n",
       "29     6433.0  Working Professionals  Fullstack Program       Duplicate   \n",
       "30     6434.0  Working Professionals  Fullstack Program       Duplicate   \n",
       "32     6455.0  Working Professionals    Backend Program         Deleted   \n",
       "20     6468.0  Working Professionals    Backend Program       Duplicate   \n",
       "35     6469.0  Working Professionals    Backend Program         Deleted   \n",
       "37     6470.0  Working Professionals    Backend Program       Duplicate   \n",
       "43     6485.0  Working Professionals    Backend Program         Deleted   \n",
       "\n",
       "   Created Time (Ticket)  Ticket Closed Time First Response Time  \\\n",
       "6    2021-05-14 01:12:00 2021-05-14 01:13:00 2021-05-18 19:24:00   \n",
       "17   2021-05-14 01:46:00 2021-05-14 02:05:00 2021-05-18 19:24:00   \n",
       "1    2021-05-14 10:12:00 2021-05-14 11:23:00 2021-05-18 19:24:00   \n",
       "29   2021-05-14 13:11:00 2021-05-14 20:46:00 2021-05-18 19:24:00   \n",
       "30   2021-05-14 13:12:00 2021-05-14 20:47:00 2021-05-18 19:24:00   \n",
       "32   2021-05-14 15:16:00 2021-05-14 15:17:00 2021-05-18 19:24:00   \n",
       "20   2021-05-14 16:43:00 2021-05-17 11:44:00 2021-05-18 19:24:00   \n",
       "35   2021-05-14 16:44:00 2021-05-14 17:14:00 2021-05-18 19:24:00   \n",
       "37   2021-05-14 16:45:00 2021-05-17 11:43:00 2021-05-18 19:24:00   \n",
       "43   2021-05-14 19:34:00 2021-05-14 20:03:00 2021-05-18 19:24:00   \n",
       "\n",
       "        Project Phase        duration  \n",
       "6   fullstack-phase-2 4 days 18:12:00  \n",
       "17  fullstack-phase-3 4 days 17:38:00  \n",
       "1         trial phase 4 days 09:12:00  \n",
       "29  fullstack-phase-2 4 days 06:13:00  \n",
       "30  fullstack-phase-2 4 days 06:12:00  \n",
       "32      system-issues 4 days 04:08:00  \n",
       "20      system-issues 4 days 02:41:00  \n",
       "35      system-issues 4 days 02:40:00  \n",
       "37      system-issues 4 days 02:39:00  \n",
       "43    backend-phase-3 3 days 23:50:00  "
      ]
     },
     "execution_count": 25,
     "metadata": {},
     "output_type": "execute_result"
    }
   ],
   "source": [
    "df.head(10)"
   ]
  },
  {
   "cell_type": "markdown",
   "id": "305538bf",
   "metadata": {},
   "source": [
    "# 6. Which Phase of Project is having highest Queries?\n"
   ]
  },
  {
   "cell_type": "code",
   "execution_count": 26,
   "id": "79c872d8",
   "metadata": {},
   "outputs": [
    {
     "data": {
      "text/plain": [
       "fullstack-phase-2     96\n",
       "fullstack-phase-1     88\n",
       "system-issues         77\n",
       "fellowship-phase-1    46\n",
       "backend-phase2        45\n",
       "trial phase           32\n",
       "backend-phase1        29\n",
       "fullstack-phase-3     29\n",
       "fullstack-phase-4     17\n",
       "backend-phase-3       17\n",
       "Name: Project Phase, dtype: int64"
      ]
     },
     "execution_count": 26,
     "metadata": {},
     "output_type": "execute_result"
    }
   ],
   "source": [
    "\n",
    "df[\"Project Phase\"].value_counts()"
   ]
  },
  {
   "cell_type": "code",
   "execution_count": 44,
   "id": "848c0436",
   "metadata": {},
   "outputs": [
    {
     "data": {
      "image/png": "[encoded data removed]",
      "text/plain": [
       "<Figure size 432x288 with 1 Axes>"
      ]
     },
     "metadata": {
      "needs_background": "light"
     },
     "output_type": "display_data"
    }
   ],
   "source": [
    "b=df[\"Project Phase\"].value_counts().index\n",
    "sns.barplot(x=df[\"Project Phase\"].value_counts(),y=b)\n",
    "plt.show()\n"
   ]
  },
  {
   "cell_type": "code",
   "execution_count": null,
   "id": "d4213e0e",
   "metadata": {},
   "outputs": [],
   "source": []
  },
  {
   "cell_type": "markdown",
   "id": "ee5d115f",
   "metadata": {},
   "source": [
    "# 7.Which project phase queries are taking a long time to resolve?"
   ]
  },
  {
   "cell_type": "code",
   "execution_count": 27,
   "id": "29972d69",
   "metadata": {},
   "outputs": [],
   "source": [
    "df[\"time\"]=df[\"Ticket Closed Time\"]-df[\"First Response Time\"]"
   ]
  },
  {
   "cell_type": "code",
   "execution_count": 28,
   "id": "009b98ad",
   "metadata": {},
   "outputs": [],
   "source": [
    "df[\"time\"]=df[\"Ticket Closed Time\"]-df[\"Created Time (Ticket)\"]"
   ]
  },
  {
   "cell_type": "code",
   "execution_count": 29,
   "id": "75ff66be",
   "metadata": {},
   "outputs": [
    {
     "data": {
      "text/html": [
       "<div>\n",
       "<style scoped>\n",
       "    .dataframe tbody tr th:only-of-type {\n",
       "        vertical-align: middle;\n",
       "    }\n",
       "\n",
       "    .dataframe tbody tr th {\n",
       "        vertical-align: top;\n",
       "    }\n",
       "\n",
       "    .dataframe thead th {\n",
       "        text-align: right;\n",
       "    }\n",
       "</style>\n",
       "<table border=\"1\" class=\"dataframe\">\n",
       "  <thead>\n",
       "    <tr style=\"text-align: right;\">\n",
       "      <th></th>\n",
       "      <th>Ticket Id</th>\n",
       "      <th>Student or WP</th>\n",
       "      <th>Program Name</th>\n",
       "      <th>Status (Ticket)</th>\n",
       "      <th>Created Time (Ticket)</th>\n",
       "      <th>Ticket Closed Time</th>\n",
       "      <th>First Response Time</th>\n",
       "      <th>Project Phase</th>\n",
       "      <th>duration</th>\n",
       "      <th>time</th>\n",
       "    </tr>\n",
       "  </thead>\n",
       "  <tbody>\n",
       "    <tr>\n",
       "      <th>6</th>\n",
       "      <td>6404.0</td>\n",
       "      <td>Student</td>\n",
       "      <td>Fullstack Program</td>\n",
       "      <td>Deleted</td>\n",
       "      <td>2021-05-14 01:12:00</td>\n",
       "      <td>2021-05-14 01:13:00</td>\n",
       "      <td>2021-05-18 19:24:00</td>\n",
       "      <td>fullstack-phase-2</td>\n",
       "      <td>4 days 18:12:00</td>\n",
       "      <td>0 days 00:01:00</td>\n",
       "    </tr>\n",
       "    <tr>\n",
       "      <th>17</th>\n",
       "      <td>6410.0</td>\n",
       "      <td>Student</td>\n",
       "      <td>Fullstack Program</td>\n",
       "      <td>Deleted</td>\n",
       "      <td>2021-05-14 01:46:00</td>\n",
       "      <td>2021-05-14 02:05:00</td>\n",
       "      <td>2021-05-18 19:24:00</td>\n",
       "      <td>fullstack-phase-3</td>\n",
       "      <td>4 days 17:38:00</td>\n",
       "      <td>0 days 00:19:00</td>\n",
       "    </tr>\n",
       "  </tbody>\n",
       "</table>\n",
       "</div>"
      ],
      "text/plain": [
       "    Ticket Id Student or WP       Program Name Status (Ticket)  \\\n",
       "6      6404.0       Student  Fullstack Program         Deleted   \n",
       "17     6410.0       Student  Fullstack Program         Deleted   \n",
       "\n",
       "   Created Time (Ticket)  Ticket Closed Time First Response Time  \\\n",
       "6    2021-05-14 01:12:00 2021-05-14 01:13:00 2021-05-18 19:24:00   \n",
       "17   2021-05-14 01:46:00 2021-05-14 02:05:00 2021-05-18 19:24:00   \n",
       "\n",
       "        Project Phase        duration            time  \n",
       "6   fullstack-phase-2 4 days 18:12:00 0 days 00:01:00  \n",
       "17  fullstack-phase-3 4 days 17:38:00 0 days 00:19:00  "
      ]
     },
     "execution_count": 29,
     "metadata": {},
     "output_type": "execute_result"
    }
   ],
   "source": [
    "df.head(2)"
   ]
  },
  {
   "cell_type": "code",
   "execution_count": 30,
   "id": "82034ae3",
   "metadata": {},
   "outputs": [
    {
     "data": {
      "text/html": [
       "<div>\n",
       "<style scoped>\n",
       "    .dataframe tbody tr th:only-of-type {\n",
       "        vertical-align: middle;\n",
       "    }\n",
       "\n",
       "    .dataframe tbody tr th {\n",
       "        vertical-align: top;\n",
       "    }\n",
       "\n",
       "    .dataframe thead th {\n",
       "        text-align: right;\n",
       "    }\n",
       "</style>\n",
       "<table border=\"1\" class=\"dataframe\">\n",
       "  <thead>\n",
       "    <tr style=\"text-align: right;\">\n",
       "      <th></th>\n",
       "      <th>time</th>\n",
       "    </tr>\n",
       "    <tr>\n",
       "      <th>Project Phase</th>\n",
       "      <th></th>\n",
       "    </tr>\n",
       "  </thead>\n",
       "  <tbody>\n",
       "    <tr>\n",
       "      <th>fullstack-phase-2</th>\n",
       "      <td>82 days 20:38:00</td>\n",
       "    </tr>\n",
       "    <tr>\n",
       "      <th>fullstack-phase-1</th>\n",
       "      <td>80 days 12:35:00</td>\n",
       "    </tr>\n",
       "    <tr>\n",
       "      <th>system-issues</th>\n",
       "      <td>54 days 22:49:00</td>\n",
       "    </tr>\n",
       "    <tr>\n",
       "      <th>backend-phase2</th>\n",
       "      <td>37 days 19:52:00</td>\n",
       "    </tr>\n",
       "    <tr>\n",
       "      <th>fellowship-phase-1</th>\n",
       "      <td>37 days 19:01:00</td>\n",
       "    </tr>\n",
       "    <tr>\n",
       "      <th>backend-phase1</th>\n",
       "      <td>27 days 06:02:00</td>\n",
       "    </tr>\n",
       "    <tr>\n",
       "      <th>fullstack-phase-4</th>\n",
       "      <td>25 days 21:32:00</td>\n",
       "    </tr>\n",
       "    <tr>\n",
       "      <th>trial phase</th>\n",
       "      <td>25 days 02:45:00</td>\n",
       "    </tr>\n",
       "    <tr>\n",
       "      <th>fullstack-phase-3</th>\n",
       "      <td>18 days 16:26:00</td>\n",
       "    </tr>\n",
       "    <tr>\n",
       "      <th>backend-phase-3</th>\n",
       "      <td>17 days 18:41:00</td>\n",
       "    </tr>\n",
       "  </tbody>\n",
       "</table>\n",
       "</div>"
      ],
      "text/plain": [
       "                               time\n",
       "Project Phase                      \n",
       "fullstack-phase-2  82 days 20:38:00\n",
       "fullstack-phase-1  80 days 12:35:00\n",
       "system-issues      54 days 22:49:00\n",
       "backend-phase2     37 days 19:52:00\n",
       "fellowship-phase-1 37 days 19:01:00\n",
       "backend-phase1     27 days 06:02:00\n",
       "fullstack-phase-4  25 days 21:32:00\n",
       "trial phase        25 days 02:45:00\n",
       "fullstack-phase-3  18 days 16:26:00\n",
       "backend-phase-3    17 days 18:41:00"
      ]
     },
     "execution_count": 30,
     "metadata": {},
     "output_type": "execute_result"
    }
   ],
   "source": [
    "df[[\"time\",\"Project Phase\"]].groupby(by=\"Project Phase\").sum().sort_values(by=\"time\",ascending=False)"
   ]
  },
  {
   "cell_type": "markdown",
   "id": "21dd42ac",
   "metadata": {},
   "source": [
    "### fullstack phase-2  project phase is taking longest time to resolve"
   ]
  },
  {
   "cell_type": "markdown",
   "id": "dbad8b72",
   "metadata": {},
   "source": [
    "# 8. On which day highest queries were resolved?\n"
   ]
  },
  {
   "cell_type": "code",
   "execution_count": 31,
   "id": "e34cf12f",
   "metadata": {},
   "outputs": [],
   "source": [
    "df[\"ticket_close\"]=df[\"Ticket Closed Time\"].apply(lambda x:x.strftime(\"%d-%m-%Y\"))"
   ]
  },
  {
   "cell_type": "code",
   "execution_count": 32,
   "id": "b8210862",
   "metadata": {},
   "outputs": [
    {
     "data": {
      "text/html": [
       "<div>\n",
       "<style scoped>\n",
       "    .dataframe tbody tr th:only-of-type {\n",
       "        vertical-align: middle;\n",
       "    }\n",
       "\n",
       "    .dataframe tbody tr th {\n",
       "        vertical-align: top;\n",
       "    }\n",
       "\n",
       "    .dataframe thead th {\n",
       "        text-align: right;\n",
       "    }\n",
       "</style>\n",
       "<table border=\"1\" class=\"dataframe\">\n",
       "  <thead>\n",
       "    <tr style=\"text-align: right;\">\n",
       "      <th></th>\n",
       "      <th>Ticket Id</th>\n",
       "      <th>Student or WP</th>\n",
       "      <th>Program Name</th>\n",
       "      <th>Status (Ticket)</th>\n",
       "      <th>Created Time (Ticket)</th>\n",
       "      <th>Ticket Closed Time</th>\n",
       "      <th>First Response Time</th>\n",
       "      <th>Project Phase</th>\n",
       "      <th>duration</th>\n",
       "      <th>time</th>\n",
       "      <th>ticket_close</th>\n",
       "    </tr>\n",
       "  </thead>\n",
       "  <tbody>\n",
       "    <tr>\n",
       "      <th>6</th>\n",
       "      <td>6404.0</td>\n",
       "      <td>Student</td>\n",
       "      <td>Fullstack Program</td>\n",
       "      <td>Deleted</td>\n",
       "      <td>2021-05-14 01:12:00</td>\n",
       "      <td>2021-05-14 01:13:00</td>\n",
       "      <td>2021-05-18 19:24:00</td>\n",
       "      <td>fullstack-phase-2</td>\n",
       "      <td>4 days 18:12:00</td>\n",
       "      <td>0 days 00:01:00</td>\n",
       "      <td>14-05-2021</td>\n",
       "    </tr>\n",
       "    <tr>\n",
       "      <th>17</th>\n",
       "      <td>6410.0</td>\n",
       "      <td>Student</td>\n",
       "      <td>Fullstack Program</td>\n",
       "      <td>Deleted</td>\n",
       "      <td>2021-05-14 01:46:00</td>\n",
       "      <td>2021-05-14 02:05:00</td>\n",
       "      <td>2021-05-18 19:24:00</td>\n",
       "      <td>fullstack-phase-3</td>\n",
       "      <td>4 days 17:38:00</td>\n",
       "      <td>0 days 00:19:00</td>\n",
       "      <td>14-05-2021</td>\n",
       "    </tr>\n",
       "  </tbody>\n",
       "</table>\n",
       "</div>"
      ],
      "text/plain": [
       "    Ticket Id Student or WP       Program Name Status (Ticket)  \\\n",
       "6      6404.0       Student  Fullstack Program         Deleted   \n",
       "17     6410.0       Student  Fullstack Program         Deleted   \n",
       "\n",
       "   Created Time (Ticket)  Ticket Closed Time First Response Time  \\\n",
       "6    2021-05-14 01:12:00 2021-05-14 01:13:00 2021-05-18 19:24:00   \n",
       "17   2021-05-14 01:46:00 2021-05-14 02:05:00 2021-05-18 19:24:00   \n",
       "\n",
       "        Project Phase        duration            time ticket_close  \n",
       "6   fullstack-phase-2 4 days 18:12:00 0 days 00:01:00   14-05-2021  \n",
       "17  fullstack-phase-3 4 days 17:38:00 0 days 00:19:00   14-05-2021  "
      ]
     },
     "execution_count": 32,
     "metadata": {},
     "output_type": "execute_result"
    }
   ],
   "source": [
    "df.head(2)"
   ]
  },
  {
   "cell_type": "code",
   "execution_count": 33,
   "id": "4cea9a60",
   "metadata": {},
   "outputs": [
    {
     "data": {
      "text/plain": [
       "18-05-2021    127\n",
       "19-05-2021     99\n",
       "16-05-2021     75\n",
       "20-05-2021     66\n",
       "17-05-2021     55\n",
       "14-05-2021     23\n",
       "21-05-2021     19\n",
       "15-05-2021     11\n",
       "22-05-2021      1\n",
       "Name: ticket_close, dtype: int64"
      ]
     },
     "execution_count": 33,
     "metadata": {},
     "output_type": "execute_result"
    }
   ],
   "source": [
    "df[\"ticket_close\"].value_counts()"
   ]
  },
  {
   "cell_type": "code",
   "execution_count": 45,
   "id": "384a997c",
   "metadata": {},
   "outputs": [
    {
     "data": {
      "text/plain": [
       "<AxesSubplot:xlabel='ticket_close'>"
      ]
     },
     "execution_count": 45,
     "metadata": {},
     "output_type": "execute_result"
    },
    {
     "data": {
      "image/png": "[encoded data removed]",
      "text/plain": [
       "<Figure size 432x288 with 1 Axes>"
      ]
     },
     "metadata": {
      "needs_background": "light"
     },
     "output_type": "display_data"
    }
   ],
   "source": [
    "c=df[\"ticket_close\"].value_counts().index\n",
    "sns.barplot(x=df[\"ticket_close\"].value_counts(),y=c)\n",
    "plt.show()"
   ]
  },
  {
   "cell_type": "markdown",
   "id": "4ddb4c24",
   "metadata": {},
   "source": [
    "### on date 18-05-2021 127 queries get solved"
   ]
  },
  {
   "cell_type": "markdown",
   "id": "2f5d1741",
   "metadata": {},
   "source": [
    "# 9. Which phase queries are easier to resolve?"
   ]
  },
  {
   "cell_type": "code",
   "execution_count": 40,
   "id": "5c93f18e",
   "metadata": {},
   "outputs": [],
   "source": [
    "df[\"easy_solve\"]=df[\"Ticket Closed Time\"]-df[\"Created Time (Ticket)\"]"
   ]
  },
  {
   "cell_type": "code",
   "execution_count": 42,
   "id": "7b92111d",
   "metadata": {
    "scrolled": true
   },
   "outputs": [
    {
     "name": "stdout",
     "output_type": "stream",
     "text": [
      "                               time\n",
      "Project Phase                      \n",
      "backend-phase-3    17 days 18:41:00\n",
      "fullstack-phase-3  18 days 16:26:00\n",
      "trial phase        25 days 02:45:00\n",
      "fullstack-phase-4  25 days 21:32:00\n",
      "backend-phase1     27 days 06:02:00\n",
      "fellowship-phase-1 37 days 19:01:00\n",
      "backend-phase2     37 days 19:52:00\n",
      "system-issues      54 days 22:49:00\n",
      "fullstack-phase-1  80 days 12:35:00\n",
      "fullstack-phase-2  82 days 20:38:00\n"
     ]
    }
   ],
   "source": [
    "print(df[[\"Project Phase\",\"time\"]].groupby(by=\"Project Phase\").sum().sort_values(by=\"time\"))\n"
   ]
  },
  {
   "cell_type": "markdown",
   "id": "f7060384",
   "metadata": {},
   "source": [
    "### backend phase  project phase is easy to solve "
   ]
  },
  {
   "cell_type": "markdown",
   "id": "6ed1e83a",
   "metadata": {},
   "source": [
    "# 10.Provide Conclusion for your analysis."
   ]
  },
  {
   "cell_type": "markdown",
   "id": "8b9afd06",
   "metadata": {},
   "source": [
    "#### as per dataset provided, we have some queries to figure out from the dataset. in the dataset there is more working professional than student thats why their query is also more.average time for figuring out the query is about 10hrs which is great. 4 out of top 10 queries which took more time to resolve are system issue.on the date 18-05-2021 127 queries solved and in last most easy query to resolve was backend-phase-3\n",
    "  "
   ]
  }
 ],
 "metadata": {
  "kernelspec": {
   "display_name": "Python 3",
   "language": "python",
   "name": "python3"
  },
  "language_info": {
   "codemirror_mode": {
    "name": "ipython",
    "version": 3
   },
   "file_extension": ".py",
   "mimetype": "text/x-python",
   "name": "python",
   "nbconvert_exporter": "python",
   "pygments_lexer": "ipython3",
   "version": "3.9.13"
  }
 },
 "nbformat": 4,
 "nbformat_minor": 5
}
